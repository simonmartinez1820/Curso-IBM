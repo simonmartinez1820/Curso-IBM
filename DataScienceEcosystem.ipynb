{
 "cells": [
  {
   "cell_type": "markdown",
   "id": "c4384c40-33d9-43e8-b475-21addddf74b4",
   "metadata": {
    "tags": []
   },
   "source": [
    "## Data Science Tools and Ecosystem \n",
    "\n",
    "In this notebook, Data Science Tools and Ecosystem are summarized."
   ]
  },
  {
   "cell_type": "markdown",
   "id": "ffefa813-08ab-4df6-b35f-39168e757783",
   "metadata": {},
   "source": [
    "##Author\n",
    "S"
   ]
  },
  {
   "cell_type": "markdown",
   "id": "7c0daef6-dd70-4d80-99ba-dd82d4f4065d",
   "metadata": {
    "tags": []
   },
   "source": [
    "**Objectives**\n",
    "- Popular languages\n",
    "- Tools\n",
    "- Libraries"
   ]
  },
  {
   "cell_type": "markdown",
   "id": "897d4fa2-0903-42f5-b445-28933f286e28",
   "metadata": {},
   "source": [
    "Some of the popular languages that Data Scientists use are:"
   ]
  },
  {
   "cell_type": "markdown",
   "id": "9bce7941-773e-4bf3-88ec-10dee24f29c4",
   "metadata": {
    "tags": []
   },
   "source": [
    "1. Python\n",
    "2. Java\n",
    "3. R"
   ]
  },
  {
   "cell_type": "markdown",
   "id": "c96846e4-f565-4394-be34-9517c17da67e",
   "metadata": {},
   "source": [
    "Some of the commonly used libraries used by Data Scientists include:\n",
    "\n",
    "1. Seaborn\n",
    "2. Pandas\n",
    "3. Numpy\n"
   ]
  },
  {
   "cell_type": "markdown",
   "id": "dc0daedf-cf51-4444-9968-eea6a9dd4a48",
   "metadata": {},
   "source": [
    "|Data Science Tools |\n",
    "| ------ |\n",
    "| JupyterLab |\n",
    "|VS code |\n",
    "| Hadoop |"
   ]
  },
  {
   "cell_type": "markdown",
   "id": "3b960f10-f845-4cd2-a88e-73152ec64514",
   "metadata": {},
   "source": [
    "### Below are a few examples of evaluating arithmetic expressions in Python"
   ]
  },
  {
   "cell_type": "code",
   "execution_count": 6,
   "id": "04697d91-0c3c-4795-8e07-84b5ffe52b14",
   "metadata": {
    "tags": []
   },
   "outputs": [
    {
     "data": {
      "text/plain": [
       "17"
      ]
     },
     "execution_count": 6,
     "metadata": {},
     "output_type": "execute_result"
    }
   ],
   "source": [
    "(3*4)+5"
   ]
  },
  {
   "cell_type": "markdown",
   "id": "d5eb8bb6-0299-4c76-8803-808d5927c0a9",
   "metadata": {},
   "source": [
    "This will convert 200 minutes to hours by diving by 60\n"
   ]
  },
  {
   "cell_type": "code",
   "execution_count": 7,
   "id": "6fbf8c6c-80fd-4c27-9a16-49b7ae2ab628",
   "metadata": {
    "tags": []
   },
   "outputs": [
    {
     "data": {
      "text/plain": [
       "3.3333333333333335"
      ]
     },
     "execution_count": 7,
     "metadata": {},
     "output_type": "execute_result"
    }
   ],
   "source": [
    "200/60"
   ]
  },
  {
   "cell_type": "code",
   "execution_count": null,
   "id": "8b5d04be-8194-4756-b4fd-259efaec210d",
   "metadata": {},
   "outputs": [],
   "source": []
  }
 ],
 "metadata": {
  "kernelspec": {
   "display_name": "Python",
   "language": "python",
   "name": "conda-env-python-py"
  },
  "language_info": {
   "codemirror_mode": {
    "name": "ipython",
    "version": 3
   },
   "file_extension": ".py",
   "mimetype": "text/x-python",
   "name": "python",
   "nbconvert_exporter": "python",
   "pygments_lexer": "ipython3",
   "version": "3.7.12"
  }
 },
 "nbformat": 4,
 "nbformat_minor": 5
}
